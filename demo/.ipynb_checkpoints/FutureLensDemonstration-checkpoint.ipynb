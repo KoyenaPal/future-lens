{
 "cells": [
  {
   "cell_type": "markdown",
   "id": "12f85d21-cca4-45fc-a878-3266dd72d904",
   "metadata": {},
   "source": [
    "<a href=\"https://colab.research.google.com/github/KoyenaPal/future-lens/blob/main/demo/FutureLensDemonstration.ipynb\"><img src=\"https://colab.research.google.com/assets/colab-badge.svg\" align=\"left\"/></a>&nbsp;or in a local notebook."
   ]
  },
  {
   "cell_type": "code",
   "execution_count": null,
   "id": "d22c79e2-2757-4e60-bb22-75411828da9b",
   "metadata": {},
   "outputs": [],
   "source": [
    "%%bash\n",
    "!(stat -t /usr/local/lib/*/dist-packages/google/colab > /dev/null 2>&1) && exit\n",
    "cd /content && rm -rf /content/future-lens\n",
    "git clone https://github.com/KoyenaPal/future-lens future-lens > install.log 2>&1\n",
    "pip install -r /content/future-lens/scripts/colab_reqs/future-env.txt >> install.log 2>&1\n",
    "pip install --upgrade google-cloud-storage >> install.log 2>&1"
   ]
  },
  {
   "cell_type": "code",
   "execution_count": null,
   "id": "c095bf44-8b80-4296-8e74-fa9633abb8b3",
   "metadata": {},
   "outputs": [],
   "source": [
    "IS_COLAB = False\n",
    "try:\n",
    "    import google.colab, torch, os\n",
    "\n",
    "    IS_COLAB = True\n",
    "    os.chdir(\"/content/future-lens\")\n",
    "    if not torch.cuda.is_available():\n",
    "        raise Exception(\"Change runtime type to include a GPU.\")\n",
    "except ModuleNotFoundError as _:\n",
    "    pass"
   ]
  },
  {
   "cell_type": "code",
   "execution_count": null,
   "id": "8056dba8-e1d2-4bef-bb34-3d954fa77b3c",
   "metadata": {},
   "outputs": [],
   "source": [
    "from nnsight import LanguageModel\n",
    "from lens import load_prefix, show_future_lens\n",
    "!wget https://baulab.us/u/koyena/data/future-lens/gptj_soft_prefix.pt -O gptj_soft_prefix.pt"
   ]
  },
  {
   "cell_type": "code",
   "execution_count": null,
   "id": "0369052b-68b6-4318-b509-539a4164ab55",
   "metadata": {},
   "outputs": [],
   "source": [
    "import logging\n",
    "logging.getLogger().removeHandler(logging.getLogger().handlers[0])"
   ]
  },
  {
   "cell_type": "code",
   "execution_count": null,
   "id": "df107e78-a762-4175-92f4-9b703876fa11",
   "metadata": {},
   "outputs": [],
   "source": [
    "MODEL_NAME = 'EleutherAI/gpt-j-6b'\n",
    "PREFIX_PATH = \"gptj_soft_prefix.pt\"\n",
    "DEVICE = \"cuda\"\n",
    "\n",
    "model = LanguageModel(MODEL_NAME, device_map=DEVICE)\n",
    "learned_context = load_prefix(PREFIX_PATH)"
   ]
  },
  {
   "cell_type": "code",
   "execution_count": null,
   "id": "fab96838-e6d2-4e8c-bc58-053e77d86827",
   "metadata": {},
   "outputs": [],
   "source": [
    "user_input = \"Marty McFly from\"\n",
    "show_future_lens(model, model.tokenizer, user_input, learned_context)"
   ]
  },
  {
   "cell_type": "code",
   "execution_count": null,
   "id": "ba9b25a7-0d8c-49dd-af28-a91b085c7758",
   "metadata": {},
   "outputs": [],
   "source": []
  }
 ],
 "metadata": {
  "kernelspec": {
   "display_name": "Python 3 (ipykernel)",
   "language": "python",
   "name": "python3"
  },
  "language_info": {
   "codemirror_mode": {
    "name": "ipython",
    "version": 3
   },
   "file_extension": ".py",
   "mimetype": "text/x-python",
   "name": "python",
   "nbconvert_exporter": "python",
   "pygments_lexer": "ipython3",
   "version": "3.10.12"
  }
 },
 "nbformat": 4,
 "nbformat_minor": 5
}
