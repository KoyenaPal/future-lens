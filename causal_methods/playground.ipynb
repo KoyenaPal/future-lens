{
 "cells": [
  {
   "cell_type": "code",
   "execution_count": 3,
   "metadata": {},
   "outputs": [],
   "source": [
    "import torch\n",
    "import argparse\n",
    "import os\n",
    "from pytorch_lightning import Trainer, seed_everything\n",
    "from transformers import AutoTokenizer\n",
    "from customized import CustomizedGPTJForCausalLM\n",
    "from data import SoftPromptDataModule\n",
    "from module import GPTJModule\n",
    "from pytorch_lightning.loggers import TensorBoardLogger\n",
    "import json\n",
    "from utils import TrainArgs"
   ]
  },
  {
   "cell_type": "code",
   "execution_count": 4,
   "metadata": {},
   "outputs": [],
   "source": [
    "args = TrainArgs(\"Emb\", 27, [1])"
   ]
  },
  {
   "cell_type": "code",
   "execution_count": 5,
   "metadata": {},
   "outputs": [
    {
     "name": "stderr",
     "output_type": "stream",
     "text": [
      "Some weights of the model checkpoint at EleutherAI/gpt-j-6b were not used when initializing CustomizedGPTJForCausalLM: ['transformer.h.10.attn.bias', 'transformer.h.18.attn.masked_bias', 'transformer.h.9.attn.masked_bias', 'transformer.h.0.attn.masked_bias', 'transformer.h.10.attn.masked_bias', 'transformer.h.23.attn.bias', 'transformer.h.26.attn.bias', 'transformer.h.22.attn.bias', 'transformer.h.2.attn.bias', 'transformer.h.11.attn.bias', 'transformer.h.2.attn.masked_bias', 'transformer.h.19.attn.masked_bias', 'transformer.h.15.attn.bias', 'transformer.h.7.attn.bias', 'transformer.h.22.attn.masked_bias', 'transformer.h.17.attn.masked_bias', 'transformer.h.12.attn.masked_bias', 'transformer.h.6.attn.masked_bias', 'transformer.h.24.attn.masked_bias', 'transformer.h.6.attn.bias', 'transformer.h.20.attn.bias', 'transformer.h.16.attn.bias', 'transformer.h.12.attn.bias', 'transformer.h.9.attn.bias', 'transformer.h.26.attn.masked_bias', 'transformer.h.5.attn.masked_bias', 'transformer.h.27.attn.masked_bias', 'transformer.h.14.attn.bias', 'transformer.h.24.attn.bias', 'transformer.h.21.attn.masked_bias', 'transformer.h.8.attn.bias', 'transformer.h.1.attn.bias', 'transformer.h.18.attn.bias', 'transformer.h.8.attn.masked_bias', 'transformer.h.4.attn.bias', 'transformer.h.25.attn.bias', 'transformer.h.13.attn.bias', 'transformer.h.7.attn.masked_bias', 'transformer.h.20.attn.masked_bias', 'transformer.h.3.attn.bias', 'transformer.h.14.attn.masked_bias', 'transformer.h.21.attn.bias', 'transformer.h.4.attn.masked_bias', 'transformer.h.1.attn.masked_bias', 'transformer.h.27.attn.bias', 'transformer.h.16.attn.masked_bias', 'transformer.h.19.attn.bias', 'transformer.h.11.attn.masked_bias', 'transformer.h.13.attn.masked_bias', 'transformer.h.0.attn.bias', 'transformer.h.5.attn.bias', 'transformer.h.15.attn.masked_bias', 'transformer.h.25.attn.masked_bias', 'transformer.h.23.attn.masked_bias', 'transformer.h.3.attn.masked_bias', 'transformer.h.17.attn.bias']\n",
      "- This IS expected if you are initializing CustomizedGPTJForCausalLM from the checkpoint of a model trained on another task or with another architecture (e.g. initializing a BertForSequenceClassification model from a BertForPreTraining model).\n",
      "- This IS NOT expected if you are initializing CustomizedGPTJForCausalLM from the checkpoint of a model that you expect to be exactly identical (initializing a BertForSequenceClassification model from a BertForSequenceClassification model).\n",
      "Some weights of CustomizedGPTJForCausalLM were not initialized from the model checkpoint at EleutherAI/gpt-j-6b and are newly initialized: ['transformer.prefix_embedding']\n",
      "You should probably TRAIN this model on a down-stream task to be able to use it for predictions and inference.\n",
      "Using pad_token, but it is not set yet.\n"
     ]
    }
   ],
   "source": [
    "torch_dtypes = {\n",
    "    \"fp32\": (torch.float32, 32),\n",
    "    \"fp16\": (torch.float16, \"16-mixed\"),\n",
    "    \"bf16\": (torch.bfloat16, \"bf16-mixed\")\n",
    "}\n",
    "\n",
    "if torch.cuda.get_device_name in [\"NVIDIA H100 PCIe\", \"NVIDIA A100 80GB PCIe\"]:\n",
    "    torch.set_float32_matmul_precision('medium')\n",
    "\n",
    "torch_dtype, training_precision = torch_dtypes[args.precision]\n",
    "\n",
    "if \"gpt-j-6b\" not in args.model_name_or_path:\n",
    "    raise ValueError(\"This script is only for GPT-J-6B.\")\n",
    "\n",
    "logger = TensorBoardLogger(save_dir=args.output_path, name=\"logs\")\n",
    "model = CustomizedGPTJForCausalLM.from_pretrained(args.model_name_or_path, torch_dtype=torch_dtype).cuda()\n",
    "tokenizer = AutoTokenizer.from_pretrained(args.model_name_or_path, padding_side=\"left\")\n",
    "if tokenizer.pad_token is None:\n",
    "    tokenizer.add_special_tokens({'pad_token': '<|PAD|>'})\n",
    "    model.resize_token_embeddings(len(tokenizer))"
   ]
  },
  {
   "cell_type": "code",
   "execution_count": null,
   "metadata": {},
   "outputs": [],
   "source": []
  }
 ],
 "metadata": {
  "kernelspec": {
   "display_name": "base",
   "language": "python",
   "name": "python3"
  },
  "language_info": {
   "codemirror_mode": {
    "name": "ipython",
    "version": 3
   },
   "file_extension": ".py",
   "mimetype": "text/x-python",
   "name": "python",
   "nbconvert_exporter": "python",
   "pygments_lexer": "ipython3",
   "version": "3.10.10"
  },
  "orig_nbformat": 4
 },
 "nbformat": 4,
 "nbformat_minor": 2
}
