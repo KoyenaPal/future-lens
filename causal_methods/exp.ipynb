{
 "cells": [
  {
   "cell_type": "code",
   "execution_count": null,
   "metadata": {},
   "outputs": [],
   "source": [
    "from transformers import AutoTokenizer, GPTJForCausalLM\n",
    "from tqdm import tqdm\n",
    "import torch\n",
    "import pandas as pd"
   ]
  },
  {
   "cell_type": "code",
   "execution_count": null,
   "metadata": {},
   "outputs": [],
   "source": [
    "df = pd.read_csv(\"data/training_data_100000.csv\")"
   ]
  },
  {
   "cell_type": "code",
   "execution_count": null,
   "metadata": {},
   "outputs": [],
   "source": [
    "model = GPTJForCausalLM.from_pretrained(\"EleutherAI/gpt-j-6b\", torch_dtype=torch.bfloat16).cuda()\n",
    "tokenizer = AutoTokenizer.from_pretrained(\"EleutherAI/gpt-j-6b\", padding_side=\"left\")\n",
    "if tokenizer.pad_token is None:\n",
    "    tokenizer.add_special_tokens({'pad_token': '<|PAD|>'})\n",
    "    model.resize_token_embeddings(len(tokenizer))"
   ]
  },
  {
   "cell_type": "code",
   "execution_count": null,
   "metadata": {
    "scrolled": true
   },
   "outputs": [],
   "source": [
    "from tqdm import tqdm\n",
    "batch_size = 16\n",
    "generated_phrases = []\n",
    "phrases_index = []\n",
    "\n",
    "batch_texts = []\n",
    "batch_idxs = []\n",
    "for i in tqdm(range(100000)):\n",
    "#for i in tqdm(range(50000)):\n",
    "    if len(batch_texts) < batch_size:\n",
    "        batch_texts.append(str(df.loc[i, \"decoded_prefix\"]))\n",
    "        batch_idxs.append(i)\n",
    "        if i == 99999:\n",
    "            batch = tokenizer(batch_texts, padding=True, return_tensors=\"pt\", max_length=2048)\n",
    "            batch = {k: v.cuda() for k, v in batch.items()}\n",
    "            outputs = model.generate(**batch, max_new_tokens=11)\n",
    "            generated_phrases.extend(outputs.tolist())\n",
    "            phrases_index.extend(batch_idxs)\n",
    "    elif len(batch_texts) == batch_size:\n",
    "        batch = tokenizer(batch_texts, padding=True, return_tensors=\"pt\", max_length=2048)\n",
    "        batch = {k: v.cuda() for k, v in batch.items()}\n",
    "        outputs = model.generate(**batch, max_new_tokens=11)\n",
    "        generated_phrases.extend(outputs.tolist())\n",
    "        phrases_index.extend(batch_idxs)\n",
    "        batch_texts = []\n",
    "        batch_texts.append(df.loc[i, \"decoded_prefix\"])\n",
    "        batch_idxs.append(i)"
   ]
  },
  {
   "cell_type": "code",
   "execution_count": null,
   "metadata": {},
   "outputs": [],
   "source": [
    "from tqdm import tqdm\n",
    "\n",
    "processed_phrases = []\n",
    "for i in tqdm(range(len(generated_phrases))):\n",
    "    decoded_prefix = tokenizer(df.loc[i, \"decoded_prefix\"], padding=False, max_length=2048)[\"input_ids\"]\n",
    "    processed_phrase = [tk for tk in generated_phrases[i] if tk != 50400]\n",
    "    processed_phrase = processed_phrase[len(decoded_prefix):]\n",
    "    processed_phrase = tokenizer.decode(processed_phrase)\n",
    "    processed_phrases.append(processed_phrase)"
   ]
  },
  {
   "cell_type": "code",
   "execution_count": null,
   "metadata": {},
   "outputs": [],
   "source": []
  },
  {
   "cell_type": "code",
   "execution_count": null,
   "metadata": {},
   "outputs": [],
   "source": [
    "# df[\"teacher_phrase\"] = processed_phrases\n",
    "processed_df = df[:len(generated_phrases)]"
   ]
  },
  {
   "cell_type": "code",
   "execution_count": null,
   "metadata": {},
   "outputs": [],
   "source": [
    "processed_df[\"teacher_phrase\"] = processed_phrases\n",
    "processed_df.to_csv(\"data/training_data_teacher_100000.csv\", index=False)"
   ]
  },
  {
   "cell_type": "code",
   "execution_count": null,
   "metadata": {},
   "outputs": [],
   "source": [
    "df.to_csv(\"data/training_data_teacher_100000.csv\", index=False)"
   ]
  },
  {
   "cell_type": "code",
   "execution_count": null,
   "metadata": {},
   "outputs": [],
   "source": [
    "processed_df.to_csv(\"data/training_data_teacher_11000.csv\", index=False)"
   ]
  },
  {
   "cell_type": "code",
   "execution_count": null,
   "metadata": {},
   "outputs": [],
   "source": []
  }
 ],
 "metadata": {
  "kernelspec": {
   "display_name": "Python 3 (ipykernel)",
   "language": "python",
   "name": "python3"
  },
  "language_info": {
   "codemirror_mode": {
    "name": "ipython",
    "version": 3
   },
   "file_extension": ".py",
   "mimetype": "text/x-python",
   "name": "python",
   "nbconvert_exporter": "python",
   "pygments_lexer": "ipython3",
   "version": "3.9.7"
  }
 },
 "nbformat": 4,
 "nbformat_minor": 2
}
