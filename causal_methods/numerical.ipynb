{
 "cells": [
  {
   "cell_type": "code",
   "execution_count": 9,
   "metadata": {},
   "outputs": [],
   "source": [
    "import seaborn as sns\n",
    "import matplotlib.pyplot as plt\n",
    "import os\n",
    "import re\n",
    "import json\n",
    "import pandas as pd\n",
    "from tqdm import tqdm\n",
    "\n",
    "\n",
    "def load_data(results_dir: str):\n",
    "    prec_at_k = pd.DataFrame(columns=[\"In-Layer\", \"Out-Layer\", \"Training Target\", \"N\", \"K\", \"Precision@K\", \"Method\", \"Context Index\"])\n",
    "    surprisal = pd.DataFrame(columns=[\"In-Layer\", \"Out-Layer\", \"Training Target\", \"N\", \"Surprisal\", \"Method\", \"Context Index\"])\n",
    "\n",
    "    for folder in tqdm(os.listdir(results_dir)):\n",
    "        if \".DS_Store\" in folder:\n",
    "            continue\n",
    "        in_layer, out_layer, training_tar, metric, method = re.findall(r\"layer(\\d+)to(\\d+)_tk([\\d])_([a-z\\d\\@]*)_([a-z\\d]*)\", folder)[0]\n",
    "        result = json.load(open(os.path.join(results_dir, folder, \"test_results.json\"), \"r\"))\n",
    "        context_idx = method[-1] if method.startswith(\"ctx\") else None\n",
    "        training_tar = training_tar if not method.startswith(\"ctx\") else -1\n",
    "        method = \"Learned prompt\" if method == \"prefix\" else \"Fixed prompt\"\n",
    "\n",
    "        if metric == \"surprisal\":\n",
    "            for n in range(len(result[\"surprisal\"])):\n",
    "                surprisal.loc[len(surprisal.index)] = [int(in_layer) + 1, int(out_layer), int(training_tar), int(n), float(result[\"surprisal\"][n]), method, context_idx]\n",
    "        else:\n",
    "            for n in result.keys():\n",
    "                for k in range(len(result[n])):\n",
    "                    prec_at_k.loc[len(prec_at_k.index)] = [int(in_layer) + 1, int(out_layer), int(training_tar), int(n), k+1, float(result[n][k]), method, context_idx]\n",
    "    \n",
    "    return prec_at_k, surprisal"
   ]
  },
  {
   "cell_type": "code",
   "execution_count": 10,
   "metadata": {},
   "outputs": [
    {
     "name": "stderr",
     "output_type": "stream",
     "text": [
      "100%|██████████| 449/449 [00:10<00:00, 44.60it/s]\n"
     ]
    }
   ],
   "source": [
    "prec_df, surp_df = load_data(\"results/testing/\")"
   ]
  },
  {
   "cell_type": "code",
   "execution_count": 11,
   "metadata": {},
   "outputs": [],
   "source": [
    "linear_baseline = pd.read_csv(\"./results/linear-baseline-version-results.csv\")\n",
    "for i in linear_baseline.index:\n",
    "    name = linear_baseline.loc[i, \"Name\"]\n",
    "    in_layer, n = re.match(r\"PREV_L([-?\\d]+)_OUT_L27_NEXT_T(-?\\d+)\", name).groups()\n",
    "    n = int(n) + 1\n",
    "    in_layer = int(in_layer) + 1\n",
    "    if in_layer == 0:\n",
    "        continue\n",
    "    results = float(linear_baseline.loc[i][\"test/accuracy\"]) / 100\n",
    "    prec_df.loc[len(prec_df.index)] = [in_layer, 27, -1, n, 1, results, \"Linear Vocab\", None]\n",
    "\n",
    "linear_model = pd.read_csv(\"./results/final-conll-linear-run.csv\")\n",
    "for i in linear_model.index:\n",
    "    name = linear_model.loc[i, \"Name\"]\n",
    "    in_layer, n = re.match(r\"PREV_L([-?\\d]+)_OUT_L27_NEXT_T(-?\\d+)\", name).groups()\n",
    "    if in_layer == str(-1):\n",
    "        continue\n",
    "    n = int(n) + 1\n",
    "    in_layer = int(in_layer) + 1\n",
    "    results = float(linear_model.loc[i][\"test/accuracy\"]) / 100\n",
    "    prec_df.loc[len(prec_df.index)] = [in_layer, 27, -1, n, 1, results, \"Linear Model\", None]\n",
    "\n",
    "linear_surp_df = pd.read_csv(\"./results/linear_surprisal.csv\")\n",
    "surp_df = pd.concat([surp_df, linear_surp_df], ignore_index=True)"
   ]
  },
  {
   "cell_type": "code",
   "execution_count": 17,
   "metadata": {},
   "outputs": [
    {
     "name": "stdout",
     "output_type": "stream",
     "text": [
      "Linear Model\n",
      "0\n",
      "nan\n",
      "\n",
      "1\n",
      "nan\n",
      "\n",
      "2\n",
      "nan\n",
      "\n",
      "3\n",
      "nan\n",
      "\n",
      "------------------\n",
      "Learned prompt\n",
      "0\n",
      "0.8786428592034748\n",
      "\n",
      "1\n",
      "0.695214284317834\n",
      "\n",
      "2\n",
      "0.6732142844370433\n",
      "\n",
      "3\n",
      "0.7197500020265579\n",
      "\n",
      "------------------\n",
      "Fixed prompt\n",
      "0\n",
      "0.7967410723545721\n",
      "\n",
      "1\n",
      "0.44415178522467613\n",
      "\n",
      "2\n",
      "0.49450892955064774\n",
      "\n",
      "3\n",
      "0.5935357111905303\n",
      "\n",
      "------------------\n",
      "Linear Vocab\n",
      "0\n",
      "nan\n",
      "\n",
      "1\n",
      "nan\n",
      "\n",
      "2\n",
      "nan\n",
      "\n",
      "3\n",
      "nan\n",
      "\n",
      "------------------\n"
     ]
    }
   ],
   "source": [
    "methods = set(prec_df[\"Method\"])\n",
    "for method in methods:\n",
    "    print(method)\n",
    "    sub_df = prec_df[prec_df[\"Method\"] == method]\n",
    "    sub_df = sub_df[(sub_df[\"Training Target\"] == -1) | (sub_df[\"Training Target\"] == 1)]\n",
    "    sub_df = sub_df[sub_df[\"K\"] == 10]\n",
    "    for n in [0, 1, 2, 3]:\n",
    "        print(n)\n",
    "        subsub_df = sub_df[sub_df[\"N\"] == n]\n",
    "        print(subsub_df[\"Precision@K\"].mean())\n",
    "        print()\n",
    "    \n",
    "    print(\"------------------\")"
   ]
  },
  {
   "cell_type": "code",
   "execution_count": null,
   "metadata": {},
   "outputs": [],
   "source": [
    "methods = set(surp_df[\"Method\"])\n",
    "for method in methods:\n",
    "    print(method)\n",
    "    sub_df = surp_df[surp_df[\"Method\"] == method]\n",
    "    sub_df = sub_df[(sub_df[\"Training Target\"] == -1) | (sub_df[\"Training Target\"] == 1)]\n",
    "    for n in [0, 1, 2, 3]:\n",
    "        print(n)\n",
    "        subsub_df = sub_df[sub_df[\"N\"] == n]\n",
    "        print(subsub_df[\"Surprisal\"].mean())\n",
    "        print()\n",
    "\n",
    "    print(\"------------------\")"
   ]
  },
  {
   "cell_type": "code",
   "execution_count": 14,
   "metadata": {},
   "outputs": [
    {
     "ename": "KeyError",
     "evalue": "'Methods'",
     "output_type": "error",
     "traceback": [
      "\u001b[0;31m---------------------------------------------------------------------------\u001b[0m",
      "\u001b[0;31mKeyError\u001b[0m                                  Traceback (most recent call last)",
      "File \u001b[0;32m~/miniconda3/lib/python3.10/site-packages/pandas/core/indexes/base.py:3653\u001b[0m, in \u001b[0;36mIndex.get_loc\u001b[0;34m(self, key)\u001b[0m\n\u001b[1;32m   3652\u001b[0m \u001b[39mtry\u001b[39;00m:\n\u001b[0;32m-> 3653\u001b[0m     \u001b[39mreturn\u001b[39;00m \u001b[39mself\u001b[39;49m\u001b[39m.\u001b[39;49m_engine\u001b[39m.\u001b[39;49mget_loc(casted_key)\n\u001b[1;32m   3654\u001b[0m \u001b[39mexcept\u001b[39;00m \u001b[39mKeyError\u001b[39;00m \u001b[39mas\u001b[39;00m err:\n",
      "File \u001b[0;32m~/miniconda3/lib/python3.10/site-packages/pandas/_libs/index.pyx:147\u001b[0m, in \u001b[0;36mpandas._libs.index.IndexEngine.get_loc\u001b[0;34m()\u001b[0m\n",
      "File \u001b[0;32m~/miniconda3/lib/python3.10/site-packages/pandas/_libs/index.pyx:176\u001b[0m, in \u001b[0;36mpandas._libs.index.IndexEngine.get_loc\u001b[0;34m()\u001b[0m\n",
      "File \u001b[0;32mpandas/_libs/hashtable_class_helper.pxi:7080\u001b[0m, in \u001b[0;36mpandas._libs.hashtable.PyObjectHashTable.get_item\u001b[0;34m()\u001b[0m\n",
      "File \u001b[0;32mpandas/_libs/hashtable_class_helper.pxi:7088\u001b[0m, in \u001b[0;36mpandas._libs.hashtable.PyObjectHashTable.get_item\u001b[0;34m()\u001b[0m\n",
      "\u001b[0;31mKeyError\u001b[0m: 'Methods'",
      "\nThe above exception was the direct cause of the following exception:\n",
      "\u001b[0;31mKeyError\u001b[0m                                  Traceback (most recent call last)",
      "Cell \u001b[0;32mIn[14], line 1\u001b[0m\n\u001b[0;32m----> 1\u001b[0m prec_df[prec_df[\u001b[39m\"\u001b[39;49m\u001b[39mMethods\u001b[39;49m\u001b[39m\"\u001b[39;49m] \u001b[39m==\u001b[39m \u001b[39m\"\u001b[39m\u001b[39mLearned prompt\u001b[39m\u001b[39m\"\u001b[39m]\n",
      "File \u001b[0;32m~/miniconda3/lib/python3.10/site-packages/pandas/core/frame.py:3761\u001b[0m, in \u001b[0;36mDataFrame.__getitem__\u001b[0;34m(self, key)\u001b[0m\n\u001b[1;32m   3759\u001b[0m \u001b[39mif\u001b[39;00m \u001b[39mself\u001b[39m\u001b[39m.\u001b[39mcolumns\u001b[39m.\u001b[39mnlevels \u001b[39m>\u001b[39m \u001b[39m1\u001b[39m:\n\u001b[1;32m   3760\u001b[0m     \u001b[39mreturn\u001b[39;00m \u001b[39mself\u001b[39m\u001b[39m.\u001b[39m_getitem_multilevel(key)\n\u001b[0;32m-> 3761\u001b[0m indexer \u001b[39m=\u001b[39m \u001b[39mself\u001b[39;49m\u001b[39m.\u001b[39;49mcolumns\u001b[39m.\u001b[39;49mget_loc(key)\n\u001b[1;32m   3762\u001b[0m \u001b[39mif\u001b[39;00m is_integer(indexer):\n\u001b[1;32m   3763\u001b[0m     indexer \u001b[39m=\u001b[39m [indexer]\n",
      "File \u001b[0;32m~/miniconda3/lib/python3.10/site-packages/pandas/core/indexes/base.py:3655\u001b[0m, in \u001b[0;36mIndex.get_loc\u001b[0;34m(self, key)\u001b[0m\n\u001b[1;32m   3653\u001b[0m     \u001b[39mreturn\u001b[39;00m \u001b[39mself\u001b[39m\u001b[39m.\u001b[39m_engine\u001b[39m.\u001b[39mget_loc(casted_key)\n\u001b[1;32m   3654\u001b[0m \u001b[39mexcept\u001b[39;00m \u001b[39mKeyError\u001b[39;00m \u001b[39mas\u001b[39;00m err:\n\u001b[0;32m-> 3655\u001b[0m     \u001b[39mraise\u001b[39;00m \u001b[39mKeyError\u001b[39;00m(key) \u001b[39mfrom\u001b[39;00m \u001b[39merr\u001b[39;00m\n\u001b[1;32m   3656\u001b[0m \u001b[39mexcept\u001b[39;00m \u001b[39mTypeError\u001b[39;00m:\n\u001b[1;32m   3657\u001b[0m     \u001b[39m# If we have a listlike key, _check_indexing_error will raise\u001b[39;00m\n\u001b[1;32m   3658\u001b[0m     \u001b[39m#  InvalidIndexError. Otherwise we fall through and re-raise\u001b[39;00m\n\u001b[1;32m   3659\u001b[0m     \u001b[39m#  the TypeError.\u001b[39;00m\n\u001b[1;32m   3660\u001b[0m     \u001b[39mself\u001b[39m\u001b[39m.\u001b[39m_check_indexing_error(key)\n",
      "\u001b[0;31mKeyError\u001b[0m: 'Methods'"
     ]
    }
   ],
   "source": [
    "prec_df[prec_df[\"Method\"] == \"Learned prompt\"]"
   ]
  },
  {
   "cell_type": "code",
   "execution_count": null,
   "metadata": {},
   "outputs": [],
   "source": []
  }
 ],
 "metadata": {
  "kernelspec": {
   "display_name": "base",
   "language": "python",
   "name": "python3"
  },
  "language_info": {
   "codemirror_mode": {
    "name": "ipython",
    "version": 3
   },
   "file_extension": ".py",
   "mimetype": "text/x-python",
   "name": "python",
   "nbconvert_exporter": "python",
   "pygments_lexer": "ipython3",
   "version": "3.10.10"
  },
  "orig_nbformat": 4
 },
 "nbformat": 4,
 "nbformat_minor": 2
}
